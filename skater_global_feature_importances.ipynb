{
 "cells": [
  {
   "cell_type": "markdown",
   "metadata": {},
   "source": [
    "# Skater Feature Importances"
   ]
  },
  {
   "cell_type": "code",
   "execution_count": 58,
   "metadata": {},
   "outputs": [],
   "source": [
    "import numpy as np\n",
    "import pandas as pd\n",
    "\n",
    "from skater.model import InMemoryModel\n",
    "from skater.core.explanations import Interpretation\n",
    "\n",
    "from sklearn import datasets\n",
    "from sklearn.model_selection import train_test_split, GridSearchCV, cross_val_score, cross_val_predict\n",
    "from sklearn.ensemble import RandomForestClassifier\n",
    "\n",
    "seed = 16\n",
    "\n",
    "wine = datasets.load_wine()\n",
    "X = pd.DataFrame(wine.data, columns=wine.feature_names)\n",
    "y = wine.target"
   ]
  },
  {
   "cell_type": "code",
   "execution_count": 59,
   "metadata": {},
   "outputs": [],
   "source": [
    "# Test, Train Split\n",
    "X_train, X_test, y_train, y_test = train_test_split(X, y, test_size=0.33, random_state=seed)"
   ]
  },
  {
   "cell_type": "code",
   "execution_count": 60,
   "metadata": {},
   "outputs": [
    {
     "data": {
      "text/plain": [
       "0.9664335664335664"
      ]
     },
     "execution_count": 60,
     "metadata": {},
     "output_type": "execute_result"
    }
   ],
   "source": [
    "rf = RandomForestClassifier(n_estimators=100)\n",
    "rf.fit(X_train, y_train)\n",
    "\n",
    "scores = cross_val_score(rf, X_test, y_test, scoring='accuracy', cv=5)\n",
    "y_pred = cross_val_predict(rf, X_test, y_test, cv=5)\n",
    "\n",
    "np.mean(scores)"
   ]
  },
  {
   "cell_type": "code",
   "execution_count": 61,
   "metadata": {},
   "outputs": [
    {
     "name": "stdout",
     "output_type": "stream",
     "text": [
      "flavanoids\n",
      "\t0.18070920363114007\n",
      "proline\n",
      "\t0.16880385680990173\n",
      "color_intensity\n",
      "\t0.15439973500351975\n",
      "od280/od315_of_diluted_wines\n",
      "\t0.14591315939186963\n",
      "alcohol\n",
      "\t0.12669643487097518\n",
      "hue\n",
      "\t0.04888773128641336\n",
      "total_phenols\n",
      "\t0.04161256492382799\n",
      "magnesium\n",
      "\t0.033820763992332525\n",
      "proanthocyanins\n",
      "\t0.026531405156581363\n",
      "malic_acid\n",
      "\t0.024861713268545183\n",
      "alcalinity_of_ash\n",
      "\t0.02314061849709974\n",
      "ash\n",
      "\t0.012932407679364823\n",
      "nonflavanoid_phenols\n",
      "\t0.011690405488428654\n"
     ]
    }
   ],
   "source": [
    "for feature, importance in sorted(zip(wine.feature_names, rf.feature_importances_), key=lambda x: x[1], reverse=True):\n",
    "    print(f'{feature}\\n\\t{importance}')"
   ]
  },
  {
   "cell_type": "code",
   "execution_count": 62,
   "metadata": {},
   "outputs": [
    {
     "name": "stdout",
     "output_type": "stream",
     "text": [
      "[13/13] features ████████████████████ Time elapsed: 0 seconds"
     ]
    },
    {
     "data": {
      "text/plain": [
       "flavanoids                      0.177506\n",
       "od280/od315_of_diluted_wines    0.171337\n",
       "alcohol                         0.155056\n",
       "proline                         0.152314\n",
       "color_intensity                 0.143830\n",
       "total_phenols                   0.054456\n",
       "hue                             0.048329\n",
       "magnesium                       0.037661\n",
       "proanthocyanins                 0.030634\n",
       "malic_acid                      0.014010\n",
       "ash                             0.006812\n",
       "nonflavanoid_phenols            0.004413\n",
       "alcalinity_of_ash               0.003642\n",
       "dtype: float64"
      ]
     },
     "execution_count": 62,
     "metadata": {},
     "output_type": "execute_result"
    }
   ],
   "source": [
    "model = InMemoryModel(rf.predict_proba, examples = X)\n",
    "interpreter = Interpretation()\n",
    "interpreter.load_data(X)\n",
    "interpreter.feature_importance.feature_importance(model, ascending=False)"
   ]
  },
  {
   "cell_type": "code",
   "execution_count": null,
   "metadata": {},
   "outputs": [],
   "source": []
  }
 ],
 "metadata": {
  "kernelspec": {
   "display_name": "Python 3",
   "language": "python",
   "name": "python3"
  },
  "language_info": {
   "codemirror_mode": {
    "name": "ipython",
    "version": 3
   },
   "file_extension": ".py",
   "mimetype": "text/x-python",
   "name": "python",
   "nbconvert_exporter": "python",
   "pygments_lexer": "ipython3",
   "version": "3.6.6"
  }
 },
 "nbformat": 4,
 "nbformat_minor": 2
}
