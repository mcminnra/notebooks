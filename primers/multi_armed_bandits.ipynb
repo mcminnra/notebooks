{
 "cells": [
  {
   "cell_type": "code",
   "execution_count": 136,
   "metadata": {},
   "outputs": [],
   "source": [
    "import numpy as np"
   ]
  },
  {
   "cell_type": "code",
   "execution_count": 137,
   "metadata": {},
   "outputs": [],
   "source": [
    "# Thompson Sampling Beta Binomial (used for hit or miss arms - binomial)\n",
    "num_trials = 10000\n",
    "thetas = np.zeros(num_trials)\n",
    "thetasregret = np.zeros(num_trials)\n",
    "reward_i = np.zeros(num_trials)\n",
    "choice_i = np.zeros(num_trials)\n",
    "variants = [0, 1, 2, 3, 4, 5, 6, 7, 8, 9]\n",
    "payouts = [0.023, 0.03, 0.029, 0.001, 0.05, 0.06, 0.0234, 0.035, 0.01, 0.11]\n",
    "num_k = len(variants)\n",
    "a = np.ones(num_k)\n",
    "b = np.ones(num_k)"
   ]
  },
  {
   "cell_type": "code",
   "execution_count": 138,
   "metadata": {},
   "outputs": [],
   "source": [
    "# Thompson Sampling Beta Binomial\n",
    "total_reward = 0\n",
    "for i in range(num_trials):\n",
    "    # Choose k\n",
    "    theta = np.random.beta(a, b)\n",
    "    k = variants[np.argmax(theta)]\n",
    "    \n",
    "    # Reward (flag hit_or_miss) (In a real scenario payout is unknown and you make a choice here)\n",
    "    reward = np.random.binomial(1, p=payouts[k])\n",
    "    \n",
    "    # Update\n",
    "    a[k] += reward\n",
    "    b[k] += 1 - reward # i.e. only increment b when it's a swing and a miss. 1 - 0 = 1, 1 - 1 = 0\n",
    "\n",
    "    thetas[i] = theta[k]\n",
    "    thetasregret[i] = np.max(thetas) - theta[k] \n",
    "    \n",
    "    choice_i[i] = k\n",
    "    reward_i[i] = reward\n",
    "    total_reward += reward"
   ]
  },
  {
   "cell_type": "code",
   "execution_count": 139,
   "metadata": {},
   "outputs": [
    {
     "name": "stdout",
     "output_type": "stream",
     "text": [
      "[  8.   5.   4.   1.  14.  52.   2.  20.   1. 875.]\n",
      "[ 181.  130.  108.   62.  235.  631.   87.  321.   68. 7215.]\n"
     ]
    }
   ],
   "source": [
    "print(a)\n",
    "print(b)"
   ]
  },
  {
   "cell_type": "code",
   "execution_count": 140,
   "metadata": {},
   "outputs": [
    {
     "name": "stdout",
     "output_type": "stream",
     "text": [
      "Best Choice: 9\n"
     ]
    }
   ],
   "source": [
    "print(f'Best Choice: {np.argmax(a/(a+b))}')"
   ]
  },
  {
   "cell_type": "code",
   "execution_count": 161,
   "metadata": {},
   "outputs": [],
   "source": [
    "# UCB (Use for Continuous rewards)\n",
    "num_trials = 1000000\n",
    "thetas = np.zeros(num_trials)\n",
    "thetasregret = np.zeros(num_trials)\n",
    "reward_i = np.zeros(num_trials)\n",
    "choice_i = np.zeros(num_trials)\n",
    "variants = [0, 1, 2]\n",
    "payouts = [(55, 5), (70, 10), (70, 3)]\n",
    "num_k = len(variants)\n",
    "mean = np.zeros(num_k)\n",
    "pulls_per_k = np.ones(num_k)"
   ]
  },
  {
   "cell_type": "code",
   "execution_count": 162,
   "metadata": {},
   "outputs": [],
   "source": [
    "# UCB\n",
    "\n",
    "# Play each action once to get starting mean\n",
    "for a in variants:\n",
    "    mean[a] = np.random.normal(payouts[a][0], payouts[a][1])\n",
    "    \n",
    "total_reward = 0\n",
    "for i in range(1, num_trials):\n",
    "    # Choose k\n",
    "    q = mean + np.sqrt((2*np.log(i))/pulls_per_k)\n",
    "    k = variants[np.argmax(mean)]\n",
    "    pulls_per_k[k] += 1\n",
    "    \n",
    "    # Reward (In a real scenario payout is unknown and you make a choice here)\n",
    "    reward = np.random.normal(payouts[k][0], payouts[k][1])\n",
    "    \n",
    "    # Update\n",
    "    prev_mean = mean[k]\n",
    "    mean[k] = prev_mean + (reward - prev_mean)/(i)"
   ]
  },
  {
   "cell_type": "code",
   "execution_count": 163,
   "metadata": {},
   "outputs": [
    {
     "data": {
      "text/plain": [
       "array([57.14733201, 66.20149998, 69.99981034])"
      ]
     },
     "execution_count": 163,
     "metadata": {},
     "output_type": "execute_result"
    }
   ],
   "source": [
    "mean"
   ]
  },
  {
   "cell_type": "code",
   "execution_count": 164,
   "metadata": {},
   "outputs": [
    {
     "name": "stdout",
     "output_type": "stream",
     "text": [
      "Best Choice: 2\n"
     ]
    }
   ],
   "source": [
    "print(f'Best Choice: {np.argmax(mean)}')"
   ]
  }
 ],
 "metadata": {
  "kernelspec": {
   "display_name": "Python 3",
   "language": "python",
   "name": "python3"
  },
  "language_info": {
   "codemirror_mode": {
    "name": "ipython",
    "version": 3
   },
   "file_extension": ".py",
   "mimetype": "text/x-python",
   "name": "python",
   "nbconvert_exporter": "python",
   "pygments_lexer": "ipython3",
   "version": "3.6.6"
  }
 },
 "nbformat": 4,
 "nbformat_minor": 2
}
