{
 "cells": [
  {
   "cell_type": "code",
   "execution_count": 89,
   "metadata": {},
   "outputs": [],
   "source": [
    "import numpy as np"
   ]
  },
  {
   "cell_type": "code",
   "execution_count": 90,
   "metadata": {},
   "outputs": [],
   "source": [
    "# Thompson Sampling Beta Binomial (used for hit or miss arms - binomial)\n",
    "num_trials = 10000\n",
    "thetas = np.zeros(num_trials)\n",
    "thetasregret = np.zeros(num_trials)\n",
    "reward_i = np.zeros(num_trials)\n",
    "choice_i = np.zeros(num_trials)\n",
    "variants = [0, 1, 2, 3, 4, 5, 6, 7, 8, 9]\n",
    "payouts = [0.023, 0.03, 0.029, 0.001, 0.05, 0.06, 0.0234, 0.035, 0.01, 0.11]\n",
    "num_k = len(variants)\n",
    "a = np.ones(num_k)\n",
    "b = np.ones(num_k)\n",
    "\n",
    "total_reward = 0\n",
    "for i in range(num_trials):\n",
    "    # Choose k\n",
    "    theta = np.random.beta(a, b)\n",
    "    k = variants[np.argmax(theta)]\n",
    "    \n",
    "    # Reward (flag hit_or_miss) (In a real scenario payout is unknown and you make a choice here)\n",
    "    reward = np.random.binomial(1, p=payouts[k])\n",
    "    \n",
    "    # Update\n",
    "    a[k] += reward\n",
    "    b[k] += 1 - reward # i.e. only increment b when it's a swing and a miss. 1 - 0 = 1, 1 - 1 = 0\n",
    "\n",
    "    thetas[i] = theta[k]\n",
    "    thetasregret[i] = np.max(thetas) - theta[k] \n",
    "    \n",
    "    choice_i[i] = k\n",
    "    reward_i[i] = reward\n",
    "    total_reward += reward"
   ]
  },
  {
   "cell_type": "code",
   "execution_count": 91,
   "metadata": {},
   "outputs": [
    {
     "name": "stdout",
     "output_type": "stream",
     "text": [
      "[4.00e+00 3.00e+00 7.00e+00 1.00e+00 1.70e+01 1.40e+01 4.00e+00 6.00e+00\n",
      " 1.00e+00 1.04e+03]\n",
      "[ 104.   90.  136.   55.  221.  221.  106.  121.   58. 7811.]\n"
     ]
    }
   ],
   "source": [
    "print(a)\n",
    "print(b)"
   ]
  },
  {
   "cell_type": "code",
   "execution_count": 92,
   "metadata": {},
   "outputs": [
    {
     "name": "stdout",
     "output_type": "stream",
     "text": [
      "Best Choice: 9\n"
     ]
    }
   ],
   "source": [
    "print(f'Best Choice: {np.argmax(a/(a+b))}')"
   ]
  },
  {
   "cell_type": "code",
   "execution_count": 93,
   "metadata": {},
   "outputs": [],
   "source": [
    "# UCB1 (Use for Continuous rewards)\n",
    "num_trials = 1000000\n",
    "thetas = np.zeros(num_trials)\n",
    "thetasregret = np.zeros(num_trials)\n",
    "reward_i = np.zeros(num_trials)\n",
    "choice_i = np.zeros(num_trials)\n",
    "variants = [0, 1, 2]\n",
    "payouts = [(55, 5), (70, 10), (70, 3)]\n",
    "num_k = len(variants)\n",
    "mean = np.zeros(num_k)\n",
    "pulls_per_k = np.ones(num_k)\n",
    "\n",
    "# Play each action once to get starting mean\n",
    "for a in variants:\n",
    "    mean[a] = np.random.normal(payouts[a][0], payouts[a][1])\n",
    "    \n",
    "total_reward = 0\n",
    "for i in range(1, num_trials):\n",
    "    # Choose k\n",
    "    q = mean + np.sqrt((2*np.log(i))/pulls_per_k)\n",
    "    k = variants[np.argmax(q)]\n",
    "    pulls_per_k[k] += 1\n",
    "    \n",
    "    # Reward (In a real scenario payout is unknown and you make a choice here)\n",
    "    reward = np.random.normal(payouts[k][0], payouts[k][1])\n",
    "    \n",
    "    # Update\n",
    "    prev_mean = mean[k]\n",
    "    mean[k] = prev_mean + (reward - prev_mean)/(i)"
   ]
  },
  {
   "cell_type": "code",
   "execution_count": 94,
   "metadata": {},
   "outputs": [
    {
     "data": {
      "text/plain": [
       "array([63.43240845, 65.04810104, 70.00278722])"
      ]
     },
     "execution_count": 94,
     "metadata": {},
     "output_type": "execute_result"
    }
   ],
   "source": [
    "mean"
   ]
  },
  {
   "cell_type": "code",
   "execution_count": 95,
   "metadata": {},
   "outputs": [
    {
     "data": {
      "text/plain": [
       "array([5.25652158, 3.71692205, 0.00525652])"
      ]
     },
     "execution_count": 95,
     "metadata": {},
     "output_type": "execute_result"
    }
   ],
   "source": [
    "np.sqrt((2*np.log(i))/pulls_per_k)"
   ]
  },
  {
   "cell_type": "code",
   "execution_count": 96,
   "metadata": {},
   "outputs": [
    {
     "name": "stdout",
     "output_type": "stream",
     "text": [
      "Best Choice: 2\n"
     ]
    }
   ],
   "source": [
    "print(f'Best Choice: {np.argmax(mean)}')"
   ]
  },
  {
   "cell_type": "code",
   "execution_count": 97,
   "metadata": {},
   "outputs": [],
   "source": [
    "#UCB-BV2 (UCB but where arms have cost and you have a budget)\n",
    "# Note: when payout has a quite similiar expectations, it will choose the payout with a more consistent return\n",
    "budget = 10000\n",
    "variants = [0, 1]\n",
    "payouts = [(1, 2, 5), (1.1, 10)]\n",
    "probs = [(.8, .19, .01), (.98, .02)] #E[x] = 1.23,1.278\n",
    "cost = [.80, 1] # Note: this can be a continuous process but here I made it static\n",
    "\n",
    "num_k = len(variants)\n",
    "x_sum = np.zeros(num_k)\n",
    "x_bar = np.zeros(num_k)\n",
    "c_sum = np.zeros(num_k)\n",
    "c_bar = np.zeros(num_k)\n",
    "n_pulls = np.ones(num_k)\n",
    "t = 0\n",
    "total_reward = 0\n",
    "total_cost = 0\n",
    "\n",
    "# init by pulling each arm\n",
    "for a in variants:\n",
    "    t += 1\n",
    "    r, c = np.random.choice(payouts[a], p=probs[a]), cost[a]\n",
    "    \n",
    "    x_sum[a] += r\n",
    "    x_bar[a] = r\n",
    "    c_sum[a] += c\n",
    "    c_bar[a] = c\n",
    "    \n",
    "while total_cost < budget:\n",
    "    t += 1\n",
    "    \n",
    "    # Choose k\n",
    "    lam_t = min(c_bar)\n",
    "    d = x_bar/c_bar + (1/lam_t)*(1+(1/(lam_t-np.sqrt(np.log(t-1)/n_pulls))))*np.sqrt(np.log(t-1)/n_pulls)\n",
    "    k = variants[np.argmax(d)]\n",
    "    \n",
    "    # Reward\n",
    "    r, c = np.random.choice(payouts[k], p=probs[k]), cost[k]\n",
    "    \n",
    "    # Update\n",
    "    n_pulls[k] += 1\n",
    "    x_bar[k] = x_sum[k]/n_pulls[k]\n",
    "    x_sum[k] += r\n",
    "    c_bar[k] = c_sum[k]/n_pulls[k]\n",
    "    c_sum[k] += c\n",
    "    total_reward += r\n",
    "    total_cost += c\n",
    "    "
   ]
  },
  {
   "cell_type": "code",
   "execution_count": 98,
   "metadata": {},
   "outputs": [
    {
     "name": "stdout",
     "output_type": "stream",
     "text": [
      "Best Arm: 0\n",
      "Average Return per 0 Pull: 1.2302152516603986\n",
      "Average Cost per 0 Pull: 0.7999359846362865\n",
      "Total Return: 15378.40\n",
      "Total Cost: 10000.80\n",
      "Net: 5377.60\n"
     ]
    }
   ],
   "source": [
    "print(f'Best Arm: {np.argmax(x_bar)}')\n",
    "print(f'Average Return per {np.argmax(x_bar)} Pull: {x_bar[np.argmax(x_bar)]}')\n",
    "print(f'Average Cost per {np.argmax(x_bar)} Pull: {c_bar[np.argmax(x_bar)]}')\n",
    "print(f'Total Return: {total_reward:.2f}')\n",
    "print(f'Total Cost: {total_cost:.2f}')\n",
    "print(f'Net: {total_reward-total_cost:.2f}')"
   ]
  }
 ],
 "metadata": {
  "kernelspec": {
   "display_name": "Python 3",
   "language": "python",
   "name": "python3"
  },
  "language_info": {
   "codemirror_mode": {
    "name": "ipython",
    "version": 3
   },
   "file_extension": ".py",
   "mimetype": "text/x-python",
   "name": "python",
   "nbconvert_exporter": "python",
   "pygments_lexer": "ipython3",
   "version": "3.6.8"
  }
 },
 "nbformat": 4,
 "nbformat_minor": 2
}
