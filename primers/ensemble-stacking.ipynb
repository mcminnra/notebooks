{
 "cells": [
  {
   "cell_type": "markdown",
   "metadata": {
    "ein.tags": "worksheet-0",
    "slideshow": {
     "slide_type": "-"
    }
   },
   "source": [
    "# Ensemble Stacking\n",
    "\n",
    "NOTE: Functions and Example added to NPML"
   ]
  },
  {
   "cell_type": "code",
   "execution_count": 155,
   "metadata": {
    "autoscroll": false,
    "ein.hycell": false,
    "ein.tags": "worksheet-0",
    "slideshow": {
     "slide_type": "-"
    }
   },
   "outputs": [],
   "source": [
    "import numpy as np\n",
    "import pandas as pd\n",
    "from sklearn.datasets import make_classification\n",
    "from sklearn.ensemble import RandomForestClassifier\n",
    "from sklearn.linear_model import LogisticRegression\n",
    "from sklearn.model_selection import KFold, train_test_split"
   ]
  },
  {
   "cell_type": "code",
   "execution_count": 156,
   "metadata": {
    "autoscroll": false,
    "ein.hycell": false,
    "ein.tags": "worksheet-0",
    "slideshow": {
     "slide_type": "-"
    }
   },
   "outputs": [],
   "source": [
    "def get_out_of_fold(model, X_train, y_train, X_test, k=5, random_state=42):\n",
    "    \"\"\"\n",
    "    Gets Out-Of-Fold Predictions for a model\n",
    "    \n",
    "    Parameters\n",
    "    ----------\n",
    "    model : list of pandas.DataFrame\n",
    "        Model to get Out-Of-Fold predictions for\n",
    "    X_train : numpy.ndarray or pandas.DataFrame\n",
    "        Features of Training Set\n",
    "    y_train : numpy.ndarray or pandas.DataFrame\n",
    "        Target of Training Set\n",
    "    X_test : numpy.ndarray or pandas.DataFrame\n",
    "        Featrues of Testing Set\n",
    "    k : int\n",
    "        Number of folds\n",
    "    random_state : int\n",
    "        The seed of the pseudo random number generator to use when shuffling the data.\n",
    "        \n",
    "    Returns\n",
    "    -------\n",
    "    numpy.array\n",
    "        Out-Of-Fold X Train\n",
    "    numpy.array\n",
    "        Out-Of-Fold X Test\n",
    "        \n",
    "    Raises\n",
    "    ------\n",
    "    TypeError\n",
    "        when X_train, y_train, or X_test isn't a Numpy ndarray or a Pandas DataFrame\n",
    "    \"\"\"\n",
    "    # Check Input\n",
    "    if (not isinstance(X_train, (np.ndarray, pd.Series, pd.DataFrame))\n",
    "            or not isinstance(y_train, (np.ndarray, pd.Series, pd.DataFrame))\n",
    "            or not isinstance(X_test, (np.ndarray, pd.Series, pd.DataFrame))):\n",
    "        raise TypeError('Input Data must be either a Numpy ndarray, Pandas Series, or Pandas DataFrame')\n",
    "    \n",
    "    # Convert to Numpy Array\n",
    "    if isinstance(X_train, (pd.Series, pd.DataFrame)):\n",
    "        X_train = X_train.values\n",
    "    if isinstance(y_train, (pd.Series, pd.DataFrame)):\n",
    "        y_train = y_train.values\n",
    "    if isinstance(X_test, (pd.Series, pd.DataFrame)):\n",
    "        X_test = X_test.values\n",
    "    \n",
    "    # Create Folds\n",
    "    kf = KFold(n_splits=k, random_state=random_state)\n",
    "    \n",
    "    # Init oof predictions arrays\n",
    "    oof_train = np.zeros((len(X_train),))\n",
    "    oof_test = np.zeros((len(X_test),))\n",
    "    \n",
    "    # Create matrix to hold X_test predictions across folds\n",
    "    # The oof esimations you apply to train, you need to apply to X_test as well. \n",
    "    oof_test_folds = np.empty((k, len(X_test)))\n",
    "    \n",
    "    # For each fold, create predictions on the out fold (out-of-fold predictions)\n",
    "    for i, (train_idx, test_idx) in enumerate(kf.split(X_train, y_train)):\n",
    "        # Train on \"in-folds\"\n",
    "        X_in_folds = X_train[train_idx]\n",
    "        y_in_folds = y_train[train_idx]\n",
    "        \n",
    "        # Predict \"Out Folds\"\n",
    "        X_out_fold = X_train[test_idx]\n",
    "        \n",
    "        # Fit Model\n",
    "        model.fit(X_in_folds, y_in_folds)\n",
    "        \n",
    "        # Make Out-Of-Fold Predictions\n",
    "        oof_train[test_idx] = model.predict(X_out_fold)\n",
    "        oof_test_folds[i, :] = model.predict(X_test)\n",
    "        \n",
    "    # Take the mean of test across all folds    \n",
    "    oof_test[:] = oof_test_folds.mean(axis=0)\n",
    "    \n",
    "    # Return new X_train, and X_test as numpy arrays for the model. \n",
    "    return oof_train, oof_test\n",
    "\n",
    "\n",
    "def stack(models, X_train, y_train, X_test, k=5, random_state=42):\n",
    "    \"\"\"\n",
    "    Gets Out-Of-Fold predictions for a list of models\n",
    "    \n",
    "    Parameters\n",
    "    ----------\n",
    "    models : list of pandas.core.frame.DataFrame\n",
    "        List of models to stack\n",
    "    X_train : pandas.core.frame.DataFrame\n",
    "        Features of Training Set\n",
    "    y_train : pandas.core.frame.DataFrame\n",
    "        Target of Training Set\n",
    "    X_test : pandas.core.frame.DataFrame\n",
    "        Featrues of Testing Set\n",
    "    k : int\n",
    "        Number of folds\n",
    "    random_state : int\n",
    "        The seed of the pseudo random number generator to use when shuffling the data.\n",
    "    \n",
    "    Returns\n",
    "    -------\n",
    "    pandas.core.frame.DataFrame\n",
    "        DataFrame of the predictions of each of the models\n",
    "    \"\"\"\n",
    "    # Init stacked dicts\n",
    "    X_train_stacked = {}\n",
    "    X_test_stacked = {}\n",
    "    \n",
    "    # for each model, create out of fold predictions \n",
    "    for i, model in enumerate(models):\n",
    "        X_train_oof, X_test_oof = get_out_of_fold(model, X_train, y_train, X_test, k=k, random_state=random_state)\n",
    "        \n",
    "        X_train_stacked[f'model_{i+1}'] = X_train_oof\n",
    "        X_test_stacked[f'model_{i+1}'] = X_test_oof\n",
    "        \n",
    "    return pd.DataFrame(X_train_stacked), pd.DataFrame(X_test_stacked)"
   ]
  },
  {
   "cell_type": "code",
   "execution_count": 157,
   "metadata": {
    "autoscroll": false,
    "ein.hycell": false,
    "ein.tags": "worksheet-0",
    "slideshow": {
     "slide_type": "-"
    }
   },
   "outputs": [],
   "source": [
    "# Generate a sample dataset\n",
    "X, y = make_classification(n_samples=1000, n_features=10, n_informative=7, n_redundant=1, n_classes=2)\n",
    "\n",
    "# Train Test split\n",
    "X_train, X_test, y_train, y_test = train_test_split(X, y, test_size=0.3, random_state=42)\n",
    "\n",
    "# List of Models\n",
    "models = [\n",
    "    LogisticRegression(solver='lbfgs'),\n",
    "    RandomForestClassifier(n_estimators=100)\n",
    "]\n",
    "\n",
    "# Get Stacked X\n",
    "X_train_l2, X_test_l2 = stack(models, X_train, y_train, X_test)"
   ]
  },
  {
   "cell_type": "code",
   "execution_count": 158,
   "metadata": {
    "autoscroll": false,
    "ein.hycell": false,
    "ein.tags": "worksheet-0",
    "slideshow": {
     "slide_type": "-"
    }
   },
   "outputs": [
    {
     "name": "stdout",
     "output_type": "stream",
     "text": [
      "--Individual Accuracy--\n",
      "LogisticRegression Accuracy: 0.9533\n",
      "RandomForestClassifier Accuracy: 0.9533\n",
      "\n",
      "--Stacked Accuracy--\n",
      "Stacked Accuracy: 0.9667\n"
     ]
    }
   ],
   "source": [
    "# Individual Accuracy\n",
    "print('--Individual Accuracy--')\n",
    "for model in models:\n",
    "    print(f'{model.__class__.__name__} Accuracy: {model.fit(X_train, y_train).score(X_test, y_test):0.4f}')\n",
    "    \n",
    "#Stacked Accuracy\n",
    "print('\\n--Stacked Accuracy--')\n",
    "stacked_model = LogisticRegression(solver='lbfgs')\n",
    "print(f'Stacked Accuracy: {stacked_model.fit(X_train_l2, y_train).score(X_test_l2, y_test):0.4f}')"
   ]
  }
 ],
 "metadata": {
  "kernelspec": {
   "display_name": "Python 3",
   "language": "python",
   "name": "python3"
  },
  "language_info": {
   "codemirror_mode": {
    "name": "ipython",
    "version": 3
   },
   "file_extension": ".py",
   "mimetype": "text/x-python",
   "name": "python",
   "nbconvert_exporter": "python",
   "pygments_lexer": "ipython3",
   "version": "3.7.6"
  },
  "name": "ensemble-stacking.ipynb"
 },
 "nbformat": 4,
 "nbformat_minor": 2
}
