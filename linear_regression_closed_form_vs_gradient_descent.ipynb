{
 "cells": [
  {
   "cell_type": "markdown",
   "metadata": {},
   "source": [
    "# Linear Regression - Closed-Form vs. Gradient Descent\n",
    "\n",
    "In this notebook, I wanted to explore linear regression through two different techniques. Gradient Descent is a general algorithm that can be applied to many different problems. Linear Regression is a simple and closed-form problem that doesn't need gradient descent, however it gives us a simple case to explore the relationship between the two. Hopefully, we can provide some insight on how gradient descent works and how we can generalize it to harder problems."
   ]
  },
  {
   "cell_type": "markdown",
   "metadata": {},
   "source": [
    "## Setup\n",
    "\n",
    "Let's load some packages and our data."
   ]
  },
  {
   "cell_type": "code",
   "execution_count": 175,
   "metadata": {},
   "outputs": [],
   "source": [
    "import pandas as pd\n",
    "import numpy as np\n",
    "import seaborn as sns\n",
    "\n",
    "sns.set_style('whitegrid')  #  because I like this style the best\n",
    "\n",
    "from sklearn import datasets\n",
    "\n",
    "boston = datasets.load_boston()\n",
    "\n",
    "crime = pd.DataFrame(boston.data[0], columns=['crime'])  # per capita crime rate by town\n",
    "indus = pd.DataFrame(boston.data[2], columns=['indus'])  # proportion of non-retail business by town\n",
    "df = pd.concat([crime, indus], axis=1)"
   ]
  },
  {
   "cell_type": "code",
   "execution_count": 176,
   "metadata": {},
   "outputs": [
    {
     "data": {
      "text/html": [
       "<div>\n",
       "<style scoped>\n",
       "    .dataframe tbody tr th:only-of-type {\n",
       "        vertical-align: middle;\n",
       "    }\n",
       "\n",
       "    .dataframe tbody tr th {\n",
       "        vertical-align: top;\n",
       "    }\n",
       "\n",
       "    .dataframe thead th {\n",
       "        text-align: right;\n",
       "    }\n",
       "</style>\n",
       "<table border=\"1\" class=\"dataframe\">\n",
       "  <thead>\n",
       "    <tr style=\"text-align: right;\">\n",
       "      <th></th>\n",
       "      <th>crime</th>\n",
       "      <th>indus</th>\n",
       "    </tr>\n",
       "  </thead>\n",
       "  <tbody>\n",
       "    <tr>\n",
       "      <th>count</th>\n",
       "      <td>13.000000</td>\n",
       "      <td>13.000000</td>\n",
       "    </tr>\n",
       "    <tr>\n",
       "      <th>mean</th>\n",
       "      <td>62.376871</td>\n",
       "      <td>56.882953</td>\n",
       "    </tr>\n",
       "    <tr>\n",
       "      <th>std</th>\n",
       "      <td>128.926582</td>\n",
       "      <td>120.765781</td>\n",
       "    </tr>\n",
       "    <tr>\n",
       "      <th>min</th>\n",
       "      <td>0.000000</td>\n",
       "      <td>0.000000</td>\n",
       "    </tr>\n",
       "    <tr>\n",
       "      <th>25%</th>\n",
       "      <td>1.000000</td>\n",
       "      <td>0.469000</td>\n",
       "    </tr>\n",
       "    <tr>\n",
       "      <th>50%</th>\n",
       "      <td>4.980000</td>\n",
       "      <td>4.967100</td>\n",
       "    </tr>\n",
       "    <tr>\n",
       "      <th>75%</th>\n",
       "      <td>18.000000</td>\n",
       "      <td>17.800000</td>\n",
       "    </tr>\n",
       "    <tr>\n",
       "      <th>max</th>\n",
       "      <td>396.900000</td>\n",
       "      <td>392.830000</td>\n",
       "    </tr>\n",
       "  </tbody>\n",
       "</table>\n",
       "</div>"
      ],
      "text/plain": [
       "            crime       indus\n",
       "count   13.000000   13.000000\n",
       "mean    62.376871   56.882953\n",
       "std    128.926582  120.765781\n",
       "min      0.000000    0.000000\n",
       "25%      1.000000    0.469000\n",
       "50%      4.980000    4.967100\n",
       "75%     18.000000   17.800000\n",
       "max    396.900000  392.830000"
      ]
     },
     "execution_count": 176,
     "metadata": {},
     "output_type": "execute_result"
    }
   ],
   "source": [
    "df.describe()"
   ]
  },
  {
   "cell_type": "code",
   "execution_count": 177,
   "metadata": {},
   "outputs": [
    {
     "data": {
      "text/plain": [
       "<matplotlib.axes._subplots.AxesSubplot at 0x7f0846c97828>"
      ]
     },
     "execution_count": 177,
     "metadata": {},
     "output_type": "execute_result"
    },
    {
     "data": {
      "image/png": "[encoded data removed]",
      "text/plain": [
       "<matplotlib.figure.Figure at 0x7f0846c4aba8>"
      ]
     },
     "metadata": {},
     "output_type": "display_data"
    }
   ],
   "source": [
    "sns.regplot(x='crime', y='indus', data=df, marker='+', fit_reg=False)"
   ]
  },
  {
   "cell_type": "markdown",
   "metadata": {},
   "source": [
    "I picked the boston dataset and these two variables beacuse they exhibit a strong correlation we can build a linear regressor on. More Industry = More Crime.\n",
    "\n",
    "Let's go ahead and define an error function, and some statstical measurements"
   ]
  },
  {
   "cell_type": "code",
   "execution_count": 178,
   "metadata": {},
   "outputs": [],
   "source": [
    "def mean_squared_error(x_arr, y_arr, m, b):\n",
    "    \"\"\"Computes Mean Squared Error for Linear Regression\n",
    "\n",
    "    Args:\n",
    "        x: numpy array of predictor values\n",
    "        y: numpy array of response values\n",
    "        m: slope\n",
    "        b: y-intercept\n",
    "\n",
    "    Returns:\n",
    "        Mean Squared Error\n",
    "\n",
    "    \"\"\"\n",
    "    mse = 0\n",
    "    for x, y in zip(x_arr, y_arr):\n",
    "        y_hat = m * x + b\n",
    "        residual = y - y_hat\n",
    "        mse += residual ** 2\n",
    "    mse /= len(x_arr)\n",
    "    \n",
    "    return mse\n",
    "    \n",
    "def r_squared(x_arr, y_arr, m, b):\n",
    "    \"\"\"Coefficient of Determination (r^2) for Linear Regression\n",
    "\n",
    "    Args:\n",
    "        x: numpy array of predictor values\n",
    "        y: numpy array of response values\n",
    "        m: slope\n",
    "        b: y-intercept\n",
    "\n",
    "    Returns:\n",
    "        r squared\n",
    "    \"\"\"\n",
    "    # sum of squares of residuals\n",
    "    ssr = 0\n",
    "    for x, y in zip(x_arr, y_arr):\n",
    "        y_hat = m * x + b\n",
    "        residual = y - y_hat\n",
    "        ssr += residual ** 2\n",
    "    \n",
    "    # total sum of squares\n",
    "    y_bar = np.mean(y_arr)\n",
    "    sst = 0\n",
    "    for i, y in enumerate(y_arr):\n",
    "        sst += (y - y_bar) ** 2\n",
    "    \n",
    "    return 1 - (ssr/sst)    "
   ]
  },
  {
   "cell_type": "markdown",
   "metadata": {},
   "source": [
    "## Closed Form Regression\n",
    "\n",
    "$\\hat{w} = (\\mathbf{X}^\\intercal \\mathbf{X})^{-1}\\mathbf{X}^\\intercal y$\n",
    "\n",
    "Linear Regression has a closed-form equation (as seen above), that can allow us to calculate a line of best fit without messing with gradients. It calculates our slope and intercept with the weights array, w."
   ]
  },
  {
   "cell_type": "code",
   "execution_count": 179,
   "metadata": {},
   "outputs": [
    {
     "name": "stdout",
     "output_type": "stream",
     "text": [
      "[ 0.93140336 -1.21507374]\n",
      "y = 0.931x + -1.215\n"
     ]
    }
   ],
   "source": [
    "crime_arr = df.crime.as_matrix()\n",
    "indus_arr = df.indus.as_matrix()\n",
    "\n",
    "crime_arr = np.c_[crime_arr, np.ones(len(crime_arr))]  # add 1's for intercept term\n",
    "\n",
    "w_hat = np.dot(np.linalg.inv(np.dot(crime_arr.T, crime_arr)), np.dot(crime_arr.T, indus_arr))  # estimate weights, w\n",
    "\n",
    "crime_arr = crime_arr[:,0]  # remove 1's because we only needed them for calculation\n",
    "\n",
    "print(w_hat)\n",
    "print(\"y = {0:.3f}x + {1:.3f}\".format(w_hat[0], w_hat[1]))"
   ]
  },
  {
   "cell_type": "code",
   "execution_count": 180,
   "metadata": {},
   "outputs": [
    {
     "data": {
      "text/plain": [
       "[<matplotlib.lines.Line2D at 0x7f0846bcbc88>]"
      ]
     },
     "execution_count": 180,
     "metadata": {},
     "output_type": "execute_result"
    },
    {
     "data": {
      "image/png": "[encoded data removed]",
      "text/plain": [
       "<matplotlib.figure.Figure at 0x7f0846bcbdd8>"
      ]
     },
     "metadata": {},
     "output_type": "display_data"
    }
   ],
   "source": [
    "ax = sns.regplot(x='crime', y='indus', data=df, marker='+', fit_reg=False)\n",
    "ax.plot(crime_arr, w_hat[1] + w_hat[0] *  crime_arr, color='g', linestyle='-', lw = 1)"
   ]
  },
  {
   "cell_type": "markdown",
   "metadata": {},
   "source": [
    "Let's calculate the Mean Squared Error"
   ]
  },
  {
   "cell_type": "code",
   "execution_count": 181,
   "metadata": {},
   "outputs": [
    {
     "name": "stdout",
     "output_type": "stream",
     "text": [
      "151.8745813861948\n"
     ]
    }
   ],
   "source": [
    "print(mean_squared_error(crime_arr, indus_arr, w_hat[0], w_hat[1]))"
   ]
  },
  {
   "cell_type": "markdown",
   "metadata": {},
   "source": [
    "... and $r^{2}$ (coefficient of determination) to see how good of a predictor it is. The closer to 1, the better."
   ]
  },
  {
   "cell_type": "code",
   "execution_count": 182,
   "metadata": {},
   "outputs": [
    {
     "name": "stdout",
     "output_type": "stream",
     "text": [
      "0.9887186932193579\n"
     ]
    }
   ],
   "source": [
    "print(r_squared(crime_arr, indus_arr, w_hat[0], w_hat[1]))"
   ]
  },
  {
   "cell_type": "markdown",
   "metadata": {},
   "source": [
    "## Gradient Descent Regression\n",
    "\n",
    "Let's define our gradient step function. Here we compute the sum of all the gradients of the points to give us a direction to adjust each of our parameters. We then adjust them based on a learning rate so we can slowly converge to a solution, rather than jump erradically over it."
   ]
  },
  {
   "cell_type": "code",
   "execution_count": 183,
   "metadata": {},
   "outputs": [],
   "source": [
    "def step_gradient(x_arr, y_arr, m_curr, b_curr, learning_rate):\n",
    "    m_gradient = 0.0\n",
    "    b_gradient = 0.0\n",
    "    \n",
    "    N = len(x_arr)\n",
    "    for i in range(0, N):\n",
    "        # Differentiate error (MSE) function with respect to both parameters\n",
    "        m_gradient += -(2/N) * x_arr[i] * (y_arr[i] - ((m_curr * x_arr[i]) + b_curr))\n",
    "        b_gradient += -(2/N) * (y_arr[i] - ((m_curr*x_arr[i]) + b_curr))\n",
    "        \n",
    "    new_m = m_curr - (learning_rate * m_gradient)\n",
    "    new_b = b_curr - (learning_rate * b_gradient)\n",
    "    \n",
    "    return (new_m, new_b)"
   ]
  },
  {
   "cell_type": "markdown",
   "metadata": {},
   "source": [
    "This will calculate the gradient one time and return a new slope and intercept. The size of the step is dependant on learning rate."
   ]
  },
  {
   "cell_type": "code",
   "execution_count": 184,
   "metadata": {},
   "outputs": [
    {
     "name": "stdout",
     "output_type": "stream",
     "text": [
      "y = 0.931x + -1.215\n"
     ]
    }
   ],
   "source": [
    "# Let's set some inital values. These numbers are arbitrary, and the best values are different for every problem.\n",
    "m = 0\n",
    "b = 0\n",
    "num_iterations = 1000000\n",
    "learning_rate = 0.00001\n",
    "\n",
    "for i in range(num_iterations):  # we compute gradients, and update slope and intercept while slowly converging to the correct solution. \n",
    "    m, b = step_gradient(crime_arr, indus_arr, m, b, learning_rate)\n",
    "    \n",
    "print(\"y = {0:.3f}x + {1:.3f}\".format(m, b))"
   ]
  },
  {
   "cell_type": "markdown",
   "metadata": {},
   "source": [
    "Let's again calculate Mean Squared Error and $r^2$"
   ]
  },
  {
   "cell_type": "code",
   "execution_count": 185,
   "metadata": {},
   "outputs": [
    {
     "name": "stdout",
     "output_type": "stream",
     "text": [
      "151.87458138619502\n"
     ]
    }
   ],
   "source": [
    "print(mean_squared_error(crime_arr, indus_arr, m, b))"
   ]
  },
  {
   "cell_type": "code",
   "execution_count": 186,
   "metadata": {},
   "outputs": [
    {
     "name": "stdout",
     "output_type": "stream",
     "text": [
      "0.9887186932193579\n"
     ]
    }
   ],
   "source": [
    "print(r_squared(crime_arr, indus_arr, m, b))"
   ]
  },
  {
   "cell_type": "code",
   "execution_count": 187,
   "metadata": {},
   "outputs": [
    {
     "data": {
      "text/plain": [
       "[<matplotlib.lines.Line2D at 0x7f0846adc208>]"
      ]
     },
     "execution_count": 187,
     "metadata": {},
     "output_type": "execute_result"
    },
    {
     "data": {
      "image/png": "[encoded data removed]",
      "text/plain": [
       "<matplotlib.figure.Figure at 0x7f0846adc2e8>"
      ]
     },
     "metadata": {},
     "output_type": "display_data"
    }
   ],
   "source": [
    "ax = sns.regplot(x='crime', y='indus', data=df, marker='+', fit_reg=False)\n",
    "ax.plot(crime_arr, b + m *  crime_arr, color='g', linestyle='-', lw = 1)"
   ]
  },
  {
   "cell_type": "markdown",
   "metadata": {},
   "source": [
    "As you can see, you will get the same solution for both. The advantage of a close form solution is they are generally faster on small datasets, and are considered tractable. Gradient Descent on the otherhand is generally slower, and there is no guarantee you'll find a solution. The advantage of gradient descent is you can apply it generally to problems that may not have closed form solutions, and it can be tweaked to find solutions more efficiently on vary large dataset by using batches."
   ]
  }
 ],
 "metadata": {
  "kernelspec": {
   "display_name": "Python 3",
   "language": "python",
   "name": "python3"
  },
  "language_info": {
   "codemirror_mode": {
    "name": "ipython",
    "version": 3
   },
   "file_extension": ".py",
   "mimetype": "text/x-python",
   "name": "python",
   "nbconvert_exporter": "python",
   "pygments_lexer": "ipython3",
   "version": "3.6.4"
  }
 },
 "nbformat": 4,
 "nbformat_minor": 2
}
